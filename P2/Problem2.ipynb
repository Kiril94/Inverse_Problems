{
 "cells": [
  {
   "cell_type": "code",
   "execution_count": 127,
   "metadata": {},
   "outputs": [],
   "source": [
    "import numpy as np\n",
    "import matplotlib.pyplot as plt\n",
    "import scipy.constants as const\n",
    "import numpy.linalg as la\n",
    "import sys"
   ]
  },
  {
   "cell_type": "code",
   "execution_count": 132,
   "metadata": {},
   "outputs": [],
   "source": [
    "G = const.G #gravitational constant\n",
    "data = np.loadtxt('gravdata.txt')\n",
    "x = data[:,0]*1e3 # x coordinate\n",
    "xs = x**2\n",
    "d = data[:,1] # data\n",
    "#18x10 Matrix containing derivatives\n",
    "def F_Dgm(xs,m0):\n",
    "    \"\"\"Compute derivative matrix\"\"\"\n",
    "    Dgm = np.empty((18,10))\n",
    "    for i in range(18):\n",
    "        Dgm[i,0] = G*np.log( (xs[i]+(np.cumsum(m0[5])[-1])**2)/xs[i])\n",
    "        for j in np.arange(1,5):\n",
    "            Dgm[i,j] = G*np.log( (xs[i]+(np.cumsum(m0[5:6+j])[-1])**2)/(xs[i]+(np.cumsum(m0[5:5+j])[-1])**2))\n",
    "        Dgm[i,5] = 0\n",
    "        for j in np.arange(6,10):\n",
    "            Dgm[i,j] = G*m0[j-5]*((xs[i]+(np.cumsum(m0[5:j+1])[-1])**2)/ (xs[i]+(np.cumsum(m0[5:j])[-1])**2)*2*np.cumsum(m0[5:j])[-1])\n",
    "    return Dgm\n",
    "def forward(xs, m0):\n",
    "    \"\"\"Data predicted given the model parameters\"\"\"\n",
    "    d0 = G*m0[0]*np.log( (xs+m0[5]**2)/xs)\n",
    "    for i in np.arange(1,5):\n",
    "        d0 += G*m0[i]*np.log( (xs+np.cumsum(m0[5:6+i])[-1]**2)/ (xs+np.cumsum(m0[5:i+5])[-1]**2) )\n",
    "    return d0\n",
    "\n",
    "def F_delta_m(Dgm, dd,eps):\n",
    "    \"\"\"Given delta_d and matrix with derivatives returns delta_m\"\"\"\n",
    "    dd = np.reshape(dd, (len(dd),1))\n",
    "    return (la.inv(Dgm.T@Dgm+eps**2*np.eye(10))@Dgm.T@dd).flatten()"
   ]
  },
  {
   "cell_type": "code",
   "execution_count": null,
   "metadata": {},
   "outputs": [],
   "source": [
    "#initial guess stored as described in the hint\n",
    "m0 = np.array([ 100., 400, 800, 500, 50, 3000, 2000, 6000, 9000, 10000])\n",
    "n = 0\n",
    "p = p0\n",
    "alpha, epsilon, nmax = .001, 1e-10, 7000\n",
    "misfit = np.zeros((nmax))\n",
    "while n<nmax:\n",
    "    d0 = forward(xs,m0)\n",
    "    dd = d-d0\n",
    "    misfit[n] = np.inner(dd,dd)\n",
    "    m = m0+alpha*F_delta_m(F_Dgm(xs,m0), dd,epsilon)\n",
    "    m0 = m\n",
    "    n+=1"
   ]
  },
  {
   "cell_type": "code",
   "execution_count": null,
   "metadata": {},
   "outputs": [],
   "source": [
    "dz = m[5:]\n",
    "z_base = np.cumsum(dz)\n",
    "z_top = np.insert(z_base,0, values = 0)[:-1]\n",
    "fig, ax = plt.subplots(figsize = (18,6))\n",
    "ax.set_xlabel('depth in m')\n",
    "ax.set_ylabel('density in kg/m^3')\n",
    "ax.axes.bar(x = (z_top+z_base)/2,height = m[:5], width = dz)"
   ]
  },
  {
   "cell_type": "code",
   "execution_count": null,
   "metadata": {},
   "outputs": [],
   "source": [
    "fig,ax = plt.subplots()\n",
    "ax.plot(np.arange(nmax), misfit)\n",
    "ax.plot()"
   ]
  }
 ],
 "metadata": {
  "kernelspec": {
   "display_name": "Python 3",
   "language": "python",
   "name": "python3"
  },
  "language_info": {
   "codemirror_mode": {
    "name": "ipython",
    "version": 3
   },
   "file_extension": ".py",
   "mimetype": "text/x-python",
   "name": "python",
   "nbconvert_exporter": "python",
   "pygments_lexer": "ipython3",
   "version": "3.6.10"
  }
 },
 "nbformat": 4,
 "nbformat_minor": 4
}
