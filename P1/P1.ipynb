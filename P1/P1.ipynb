{
 "cells": [
  {
   "cell_type": "code",
   "execution_count": 1,
   "metadata": {},
   "outputs": [],
   "source": [
    "import numpy as np\n",
    "import matplotlib.pyplot as plt\n",
    "import scipy.constants as const\n",
    "import numpy.linalg as la"
   ]
  },
  {
   "cell_type": "code",
   "execution_count": 2,
   "metadata": {},
   "outputs": [],
   "source": [
    "data = np.loadtxt('gravdata.txt')\n",
    "x = data[:,0]*1e3 # x coordinate\n",
    "d = data[:,1] # data\n",
    "#define constants\n",
    "G = const.G\n",
    "l = 1e3 #thickness of a layer\n",
    "unc = 1e-9 #uncertainty\n",
    "#layers bottom top\n",
    "zt = np.arange(0,100)*l\n",
    "zb = np.arange(1,101)*l \n",
    "#Construct matrix for the linearized model\n",
    "def Mat(x):\n",
    "    Mat = np.empty((len(x),100))\n",
    "    for k in range(len(x)):\n",
    "        for i in range(100):\n",
    "            Mat[k,i] = G*np.log((zb[i]**2+x[k]**2)/(zt[i]**2+x[k]**2))\n",
    "    return Mat\n",
    "#data = M@m\n",
    "def forward(m,x): return Mat(x)@m\n",
    "#returns model parameters\n",
    "def solution(Mat,d,eps):\n",
    "    A = Mat.T@Mat\n",
    "    d = np.reshape(d, (len(d),1))\n",
    "    return la.inv(A+eps**2*np.eye(len(A)))@Mat.T@d"
   ]
  },
  {
   "cell_type": "code",
   "execution_count": 21,
   "metadata": {},
   "outputs": [],
   "source": [
    "def misfit(m,d,x): return la.norm(d-forward(m,x))**2-18*unc**2"
   ]
  },
  {
   "cell_type": "code",
   "execution_count": 22,
   "metadata": {},
   "outputs": [
    {
     "name": "stdout",
     "output_type": "stream",
     "text": [
      "1.0395917314375005e-06\n"
     ]
    },
    {
     "data": {
      "text/plain": [
       "[<matplotlib.lines.Line2D at 0x1f8b254d160>]"
      ]
     },
     "execution_count": 22,
     "metadata": {},
     "output_type": "execute_result"
    },
    {
     "data": {
      "image/png": "[encoded data removed]",
      "text/plain": [
       "<Figure size 1296x432 with 1 Axes>"
      ]
     },
     "metadata": {
      "needs_background": "light"
     },
     "output_type": "display_data"
    }
   ],
   "source": [
    "m = solution(Mat(x),d,eps = -15)\n",
    "print(la.norm(d-forward(m,x)))\n",
    "fig, ax = plt.subplots(figsize = (18,6))\n",
    "ax.set_xlabel('depth in m')\n",
    "ax.set_ylabel('density in kg/m^3')\n",
    "ax.axes.axvline(0)\n",
    "ax.axes.axvline(3000)\n",
    "ax.axes.axvline(5000)\n",
    "ax.axes.axvline(11000)\n",
    "ax.axes.axvline(20000)\n",
    "ax.axes.axvline(30000)\n",
    "ax.plot(zt,m, '.')"
   ]
  },
  {
   "cell_type": "code",
   "execution_count": 5,
   "metadata": {},
   "outputs": [],
   "source": [
    "Mis = []\n",
    "Eps = np.logspace(-15,-5,100)"
   ]
  },
  {
   "cell_type": "code",
   "execution_count": 6,
   "metadata": {},
   "outputs": [
    {
     "ename": "TypeError",
     "evalue": "solution() takes 3 positional arguments but 4 were given",
     "output_type": "error",
     "traceback": [
      "\u001b[1;31m---------------------------------------------------------------------------\u001b[0m",
      "\u001b[1;31mTypeError\u001b[0m                                 Traceback (most recent call last)",
      "\u001b[1;32m<ipython-input-6-4124252b8fab>\u001b[0m in \u001b[0;36m<module>\u001b[1;34m\u001b[0m\n\u001b[0;32m      1\u001b[0m \u001b[1;32mfor\u001b[0m \u001b[0me\u001b[0m \u001b[1;32min\u001b[0m \u001b[0mEps\u001b[0m\u001b[1;33m:\u001b[0m\u001b[1;33m\u001b[0m\u001b[1;33m\u001b[0m\u001b[0m\n\u001b[1;32m----> 2\u001b[1;33m     \u001b[0mMis\u001b[0m\u001b[1;33m.\u001b[0m\u001b[0mappend\u001b[0m\u001b[1;33m(\u001b[0m\u001b[0mmisfit\u001b[0m\u001b[1;33m(\u001b[0m\u001b[0msolution\u001b[0m\u001b[1;33m(\u001b[0m\u001b[0mMat\u001b[0m\u001b[1;33m(\u001b[0m\u001b[0mx\u001b[0m\u001b[1;33m)\u001b[0m\u001b[1;33m,\u001b[0m\u001b[0mx\u001b[0m\u001b[1;33m,\u001b[0m\u001b[0md\u001b[0m\u001b[1;33m,\u001b[0m\u001b[0me\u001b[0m\u001b[1;33m)\u001b[0m\u001b[1;33m,\u001b[0m\u001b[0md\u001b[0m\u001b[1;33m,\u001b[0m\u001b[0mx\u001b[0m\u001b[1;33m)\u001b[0m\u001b[1;33m)\u001b[0m\u001b[1;33m\u001b[0m\u001b[1;33m\u001b[0m\u001b[0m\n\u001b[0m",
      "\u001b[1;31mTypeError\u001b[0m: solution() takes 3 positional arguments but 4 were given"
     ]
    }
   ],
   "source": [
    "for e in Eps:\n",
    "    Mis.append(misfit(solution(Mat(x),x,d,e),d,x))"
   ]
  },
  {
   "cell_type": "code",
   "execution_count": null,
   "metadata": {},
   "outputs": [],
   "source": [
    "fig,ax = plt.subplots()\n",
    "ax.plot(Eps, Mis)\n",
    "ax.set_xscale('log')"
   ]
  }
 ],
 "metadata": {
  "kernelspec": {
   "display_name": "Python 3",
   "language": "python",
   "name": "python3"
  },
  "language_info": {
   "codemirror_mode": {
    "name": "ipython",
    "version": 3
   },
   "file_extension": ".py",
   "mimetype": "text/x-python",
   "name": "python",
   "nbconvert_exporter": "python",
   "pygments_lexer": "ipython3",
   "version": "3.6.10"
  }
 },
 "nbformat": 4,
 "nbformat_minor": 4
}
