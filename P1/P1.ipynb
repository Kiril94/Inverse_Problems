{
 "cells": [
  {
   "cell_type": "code",
   "execution_count": 56,
   "metadata": {},
   "outputs": [],
   "source": [
    "import numpy as np\n",
    "import matplotlib.pyplot as plt\n",
    "import scipy.constants as const\n",
    "import numpy.linalg as la"
   ]
  },
  {
   "cell_type": "code",
   "execution_count": 214,
   "metadata": {},
   "outputs": [],
   "source": [
    "data = np.loadtxt('gravdata.txt')\n",
    "x = data[:,0]*1e3 # x coordinate\n",
    "d = data[:,1] # data\n",
    "#define constants\n",
    "G = const.G\n",
    "l = 1e3 #thickness of a layer\n",
    "unc = 1e-9 #uncertainty\n",
    "#layers bottom top\n",
    "zt = np.arange(0,100)*l\n",
    "zb = np.arange(1,101)*l \n",
    "\n",
    "def Mat(x):\n",
    "    Mat = np.empty((len(x),100))\n",
    "    for k in range(len(x)):\n",
    "        for i in range(100):\n",
    "            Mat[k,i] = G*np.log((zb[i]**2+x[k]**2)/(zt[i]**2+x[k]**2))\n",
    "    return Mat\n",
    "\n",
    "def forward(m,x): return Mat(x)@m\n",
    "def solution(Mat,x,d,eps):\n",
    "    A = Mat.T@Mat\n",
    "    d = np.reshape(d, (len(d),1))\n",
    "    return la.inv(A+eps**2*np.eye(len(A)))@Mat.T@d"
   ]
  },
  {
   "cell_type": "code",
   "execution_count": 216,
   "metadata": {},
   "outputs": [],
   "source": [
    "def misfit(m,d,x): return la.norm(d-forward(m,x))**2-18*unc**2"
   ]
  },
  {
   "cell_type": "code",
   "execution_count": 217,
   "metadata": {},
   "outputs": [
    {
     "data": {
      "text/plain": [
       "[<matplotlib.lines.Line2D at 0x2031da5b630>]"
      ]
     },
     "execution_count": 217,
     "metadata": {},
     "output_type": "execute_result"
    },
    {
     "data": {
      "image/png": "[encoded data removed]",
      "text/plain": [
       "<Figure size 432x288 with 1 Axes>"
      ]
     },
     "metadata": {
      "needs_background": "light"
     },
     "output_type": "display_data"
    }
   ],
   "source": [
    "m = solution(Mat(x), x,d,eps = 1e-12)\n",
    "fig, ax = plt.subplots()\n",
    "ax.plot(zt,m, '.')"
   ]
  },
  {
   "cell_type": "code",
   "execution_count": 221,
   "metadata": {},
   "outputs": [],
   "source": [
    "Mis = []\n",
    "Eps = np.logspace(-15,-5,100)"
   ]
  },
  {
   "cell_type": "code",
   "execution_count": 222,
   "metadata": {},
   "outputs": [],
   "source": [
    "for e in Eps:\n",
    "    Mis.append(misfit(solution(Mat(x),x,d,e),d,x))"
   ]
  },
  {
   "cell_type": "code",
   "execution_count": 223,
   "metadata": {},
   "outputs": [
    {
     "data": {
      "image/png": "[encoded data removed]",
      "text/plain": [
       "<Figure size 432x288 with 1 Axes>"
      ]
     },
     "metadata": {
      "needs_background": "light"
     },
     "output_type": "display_data"
    }
   ],
   "source": [
    "fig,ax = plt.subplots()\n",
    "ax.plot(Eps, Mis)\n",
    "ax.set_xscale('log')"
   ]
  }
 ],
 "metadata": {
  "kernelspec": {
   "display_name": "Python 3",
   "language": "python",
   "name": "python3"
  },
  "language_info": {
   "codemirror_mode": {
    "name": "ipython",
    "version": 3
   },
   "file_extension": ".py",
   "mimetype": "text/x-python",
   "name": "python",
   "nbconvert_exporter": "python",
   "pygments_lexer": "ipython3",
   "version": "3.6.10"
  }
 },
 "nbformat": 4,
 "nbformat_minor": 4
}
