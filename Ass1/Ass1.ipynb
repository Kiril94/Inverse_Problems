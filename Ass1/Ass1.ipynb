{
 "cells": [
  {
   "cell_type": "code",
   "execution_count": 1,
   "metadata": {},
   "outputs": [],
   "source": [
    "import numpy as np\n",
    "import matplotlib.pyplot as plt\n",
    "import scipy.constants as const\n",
    "from scipy.special import gamma\n",
    "import numpy.linalg as la\n",
    "import sys\n",
    "from matplotlib import ticker\n",
    "import matplotlib\n",
    "from IPython.core.display import Latex"
   ]
  },
  {
   "cell_type": "code",
   "execution_count": 2,
   "metadata": {},
   "outputs": [],
   "source": [
    "def fastplot(x,y,xlabel='',ylabel=''):\n",
    "    fig, ax = plt.subplots()\n",
    "    ax.scatter(x,y)\n",
    "    ax.set_xlabel(xlabel)\n",
    "    ax.set_ylabel(ylabel)\n",
    "    plt.show()\n",
    "    return fig, ax"
   ]
  },
  {
   "cell_type": "markdown",
   "metadata": {},
   "source": [
    "# Forward Problem (Analytical) "
   ]
  },
  {
   "cell_type": "code",
   "execution_count": 3,
   "metadata": {},
   "outputs": [],
   "source": [
    "v1,v2 = 6.,6.3\n",
    "x1,x2,z1,z2 = 4,7,1,9\n",
    "ds1 = 0\n",
    "ds2 = 1/v1-1/v2\n",
    "def forward_l(zr,x1,x2,z1,z2,right):\n",
    "    if right:\n",
    "        a = x1\n",
    "        b = x2\n",
    "        x1 = 13-b\n",
    "        x2 = 13-a\n",
    "    dx = x2-x1\n",
    "    if zr<=(x1+z1):\n",
    "        t = np.sqrt(2)*zr*ds1\n",
    "    elif zr>(x1+z1) and zr<=(x2+z1):\n",
    "        t = np.sqrt(2)*((x1+z1)*ds1+(zr-z1-x1)*ds2)\n",
    "    else:\n",
    "        t = np.sqrt(2)*((zr-dx)*ds1+dx*ds2)\n",
    "    return t\n",
    "\n",
    "def forward_sim(G,s):\n",
    "    return G@s"
   ]
  },
  {
   "cell_type": "code",
   "execution_count": 6,
   "metadata": {},
   "outputs": [],
   "source": [
    "rays = np.arange(2,12)\n",
    "t_l = [forward_l(r,x1,x2,z1,z2,False) for r in rays]\n",
    "t_r = [forward_l(r,x1,x2,z1,z2,True) for r in rays]\n",
    "rays_all = np.arange(20)#rays are enumerated top to bottom starting on the left assigning 0-9 and 10-19 on the right\n",
    "t_pure = np.concatenate((t_l,t_r))\n",
    "t_pure = t_pure.reshape(20,1)"
   ]
  },
  {
   "cell_type": "code",
   "execution_count": 7,
   "metadata": {},
   "outputs": [
    {
     "data": {
      "image/png": "[encoded data removed]",
      "text/plain": [
       "<Figure size 432x288 with 1 Axes>"
      ]
     },
     "metadata": {
      "needs_background": "light"
     },
     "output_type": "display_data"
    },
    {
     "data": {
      "text/plain": [
       "(<Figure size 432x288 with 1 Axes>, <AxesSubplot:>)"
      ]
     },
     "execution_count": 7,
     "metadata": {},
     "output_type": "execute_result"
    }
   ],
   "source": [
    "fastplot(rays_all, t_pure)"
   ]
  },
  {
   "cell_type": "markdown",
   "metadata": {},
   "source": [
    "### Adding noise"
   ]
  },
  {
   "cell_type": "markdown",
   "metadata": {},
   "source": [
    "We draw numbers from the distribution:\\\n",
    "$ g(x) = \\frac{1}{\\sigma\\sqrt{2\\pi}} exp\\left(\\frac{-x^2}{2\\sigma^2} \\right)$\\\n",
    "To determine the std we compute the expectation value of the length of the vector:\\\n",
    "$\\mathbb{E}\\left[||x||_2^n\\right] = 2^\\frac{n-2}{2}\\sigma^n N \\frac{\\Gamma\\left(\\frac{N+n}{2}\\right)}{\\Gamma\\left(\\frac{N+2}{2}\\right)} = \\sigma 20 \\frac{\\Gamma\\left(\\frac{21}{2}\\right)}{\\Gamma\\left(11\\right)\\sqrt{2}}$\\\n",
    "$\\sigma = \\frac{\\Gamma(11)\\sqrt{2}}{20^2\\Gamma(21/2)}\\cdot||t||$"
   ]
  },
  {
   "cell_type": "code",
   "execution_count": 38,
   "metadata": {},
   "outputs": [],
   "source": [
    "G = np.zeros((20,13*11))\n",
    "G[np.arange(10),np.arange(1,11)] = 1\n",
    "G[np.arange(10,20,1),np.arange(11,1,-1)] = 1\n",
    "for i in range(10):\n",
    "    G[np.arange(i,10), np.arange(13*(i+1),11+12*(i+1))] = 1\n",
    "    G[np.arange(10+i,20,1),np.arange(25+13*i,15+i*14,-1)] = 1\n",
    "S = np.zeros((11,13)) \n",
    "S[1:9,4:7] = ds2\n",
    "s_sim = np.ndarray.flatten(S) #s_sim contains information about the size of the gray area and is used to simulate the data\""
   ]
  },
  {
   "cell_type": "code",
   "execution_count": 39,
   "metadata": {},
   "outputs": [
    {
     "data": {
      "text/plain": [
       "(0.00046895711458365495, 0.001, 0.37317001004395806)"
      ]
     },
     "execution_count": 39,
     "metadata": {},
     "output_type": "execute_result"
    }
   ],
   "source": [
    "#np.random.seed(10)\n",
    "N = 20\n",
    "sigma = 0.001#gamma((N+2)/2)*np.sqrt(2)/ (20*N*gamma((N+1)/2))*la.norm(t_pure)\n",
    "n = np.random.normal(loc = 0, scale = sigma, size = (N,1))\n",
    "t = t_pure + n\n",
    "t_pure_sim = forward_sim(G,s_sim)\n",
    "la.norm(n)-1/20*la.norm(t_pure), sigma, la.norm(t_pure_sim-t_pure)"
   ]
  },
  {
   "cell_type": "markdown",
   "metadata": {},
   "source": [
    "# Discretization of the problem "
   ]
  },
  {
   "cell_type": "markdown",
   "metadata": {},
   "source": [
    "Discretization allows us to formulate the problem as:\\\n",
    "$\\vec{t} = \\mathbf{G}\\vec{s}$\\\n",
    "slowness on the 13x11 square grid is aranged in the following way\\\n",
    "[[s0,s1,s2,...,s12],\\\n",
    "[s13,s14,...,s25],\\\n",
    "...[...,s143]...\n",
    "]\\\n",
    "which is stored in the vector s= [s1,s2,...,s143]"
   ]
  },
  {
   "cell_type": "code",
   "execution_count": 40,
   "metadata": {},
   "outputs": [],
   "source": [
    "G = np.zeros((20,13*11))\n",
    "G[np.arange(10),np.arange(1,11)] = np.sqrt(2)\n",
    "G[np.arange(10,20,1),np.arange(11,1,-1)] = np.sqrt(2)\n",
    "for i in range(10):\n",
    "    G[np.arange(i,10), np.arange(13*(i+1),11+12*(i+1))] = np.sqrt(2)\n",
    "    G[np.arange(10+i,20),np.arange(25+13*i,15+i*14,-1)] = np.sqrt(2)\n",
    "S = np.ones((11,13))*ds1 \n",
    "S[1:9,4:7] = ds2\n",
    "s_sim = np.ndarray.flatten(S) #s_sim contains information about the size of the gray area and is used to simulate the data"
   ]
  },
  {
   "cell_type": "code",
   "execution_count": 41,
   "metadata": {},
   "outputs": [
    {
     "data": {
      "image/png": "[encoded data removed]",
      "text/plain": [
       "<Figure size 432x288 with 1 Axes>"
      ]
     },
     "metadata": {
      "needs_background": "light"
     },
     "output_type": "display_data"
    },
    {
     "data": {
      "text/plain": [
       "(<Figure size 432x288 with 1 Axes>, <AxesSubplot:>)"
      ]
     },
     "execution_count": 41,
     "metadata": {},
     "output_type": "execute_result"
    }
   ],
   "source": [
    "fastplot(rays_all, (G@s_sim-t_pure.flatten()))"
   ]
  },
  {
   "cell_type": "code",
   "execution_count": 47,
   "metadata": {},
   "outputs": [
    {
     "data": {
      "image/png": "[encoded data removed]",
      "text/plain": [
       "<Figure size 864x1008 with 1 Axes>"
      ]
     },
     "metadata": {
      "needs_background": "light"
     },
     "output_type": "display_data"
    }
   ],
   "source": [
    "#This is what the matrix looks like\n",
    "fig, ax = plt.subplots(figsize = (12,14))\n",
    "ax.imshow(G)\n",
    "#ax.set_title('G matrix')\n",
    "\n",
    "#cbar = fig.colorbar(neg, ax=ax, shrink = 0.3)\n",
    "#cbar.ax.set_ylabel(fontsize = 22)\n",
    "#cbar.ax.tick_params(labelsize=20) \n",
    "#cbar.ax.yaxis.get_offset_text().set_fontsize(20)\n",
    "#cbar.ax.yaxis.set_major_formatter(ticker.ScalarFormatter(useMathText=True))\n",
    "#cbar.formatter.set_powerlimits((0, 0))\n",
    "#cbar.update_ticks()\n",
    "fig.savefig(\"G_matrix.png\", dpi = 400)\n",
    "plt.show()"
   ]
  },
  {
   "cell_type": "markdown",
   "metadata": {},
   "source": [
    "# Solve IP "
   ]
  },
  {
   "cell_type": "code",
   "execution_count": 43,
   "metadata": {},
   "outputs": [],
   "source": [
    "def Tikh_solution(M,d,eps):\n",
    "    \"\"\"Linear IP solver. Takes matrix M and data and computes Tikhonov solution for model parameter x\"\"\"\n",
    "    A = M.T@M\n",
    "    d = np.reshape(d, (len(d),1))\n",
    "    return la.inv(A+eps**2*np.eye(len(A)))@M.T@d\n",
    "\n",
    "def misfit(G,d,s): return np.abs(la.norm(d-G@s)**2-N*sigma**2)"
   ]
  },
  {
   "cell_type": "code",
   "execution_count": 44,
   "metadata": {},
   "outputs": [],
   "source": [
    "Mis = []\n",
    "Eps = np.logspace(-7,5,200)\n",
    "for e in Eps:\n",
    "    s_sim  = Tikh_solution(G,t,e)\n",
    "    Mis.append(misfit(G, t,s_sim))"
   ]
  },
  {
   "cell_type": "code",
   "execution_count": 45,
   "metadata": {},
   "outputs": [
    {
     "data": {
      "image/png": "[encoded data removed]",
      "text/plain": [
       "<Figure size 432x288 with 1 Axes>"
      ]
     },
     "metadata": {
      "needs_background": "light"
     },
     "output_type": "display_data"
    }
   ],
   "source": [
    "fig,ax = plt.subplots()\n",
    "ax.plot(Eps, Mis)\n",
    "ax.set_ylabel('misfit')\n",
    "ax.set_xlabel('epsilon')\n",
    "ax.set_xscale('log')"
   ]
  },
  {
   "cell_type": "code",
   "execution_count": 21,
   "metadata": {},
   "outputs": [
    {
     "name": "stdout",
     "output_type": "stream",
     "text": [
      "misfit: 2.00e-05\n"
     ]
    },
    {
     "data": {
      "text/plain": [
       "0.019756448680628015"
      ]
     },
     "execution_count": 21,
     "metadata": {},
     "output_type": "execute_result"
    }
   ],
   "source": [
    "eps = 1e-1#.38e-7\n",
    "s_f = Tikh_solution(G,t,eps)\n",
    "#condition to fit parameters so that prediction is barely within uncertainty\n",
    "print(f\"misfit: {misfit(G,t,s_f):.2e}\")\n",
    "la.norm(s_f)"
   ]
  },
  {
   "cell_type": "code",
   "execution_count": 22,
   "metadata": {},
   "outputs": [
    {
     "data": {
      "image/png": "[encoded data removed]",
      "text/plain": [
       "<Figure size 432x288 with 1 Axes>"
      ]
     },
     "metadata": {
      "needs_background": "light"
     },
     "output_type": "display_data"
    },
    {
     "data": {
      "text/plain": [
       "(<Figure size 432x288 with 1 Axes>,\n",
       " <AxesSubplot:xlabel='ray_num', ylabel='time anomalie'>)"
      ]
     },
     "execution_count": 22,
     "metadata": {},
     "output_type": "execute_result"
    }
   ],
   "source": [
    "t_pred = G@s_f\n",
    "#t_ex = G@exact_sol(G,t)\n",
    "fastplot(rays_all,t_pred, xlabel = 'ray_num', ylabel = 'time anomalie')"
   ]
  },
  {
   "cell_type": "code",
   "execution_count": 23,
   "metadata": {},
   "outputs": [
    {
     "data": {
      "text/plain": [
       "<matplotlib.legend.Legend at 0x2705e2ad240>"
      ]
     },
     "execution_count": 23,
     "metadata": {},
     "output_type": "execute_result"
    },
    {
     "data": {
      "image/png": "[encoded data removed]",
      "text/plain": [
       "<Figure size 432x288 with 1 Axes>"
      ]
     },
     "metadata": {
      "needs_background": "light"
     },
     "output_type": "display_data"
    }
   ],
   "source": [
    "dt = (t-t_pred)/t\n",
    "fig,ax = plt.subplots()\n",
    "ax.scatter(rays_all, dt*100, label = '%')\n",
    "ax.legend()"
   ]
  },
  {
   "cell_type": "code",
   "execution_count": 24,
   "metadata": {},
   "outputs": [
    {
     "data": {
      "image/png": "[encoded data removed]",
      "text/plain": [
       "<Figure size 720x720 with 2 Axes>"
      ]
     },
     "metadata": {
      "needs_background": "light"
     },
     "output_type": "display_data"
    }
   ],
   "source": [
    "s_mat = np.reshape(s_f, (11,13))\n",
    "fig,ax = plt.subplots(figsize = (10,10))\n",
    "neg = ax.imshow(s_mat)\n",
    "ax.set_xlabel('z (km)', fontsize = 22)\n",
    "ax.set_ylabel('x (km)', fontsize = 22)\n",
    "ax.tick_params(axis = 'both', labelsize = 22)\n",
    "cbar = fig.colorbar(neg, ax=ax, shrink = 0.7)\n",
    "cbar.ax.set_ylabel(r'$\\Delta s$', fontsize = 22)\n",
    "cbar.ax.tick_params(labelsize=20) \n",
    "cbar.ax.yaxis.get_offset_text().set_fontsize(20)\n",
    "cbar.ax.yaxis.set_major_formatter(ticker.ScalarFormatter(useMathText=True))\n",
    "cbar.formatter.set_powerlimits((0, 0))\n",
    "cbar.update_ticks()\n",
    "ax.set_title(r'')\n",
    "fig.savefig('slowness_result.png', dpi = 300)"
   ]
  },
  {
   "cell_type": "markdown",
   "metadata": {},
   "source": [
    "## Lets simulate a delta function"
   ]
  },
  {
   "cell_type": "code",
   "execution_count": null,
   "metadata": {},
   "outputs": [],
   "source": [
    "s_delta = np.ones((13*11,1))*ds1\n",
    "s_delta[5] = ds2\n",
    "t_delta = G@s_delta\n",
    "eps = 1e-5\n",
    "s_delta_pred = Tikh_solution(G,t_delta,eps)\n",
    "S_delta_pred = np.reshape(s_delta_pred,(11,13))\n",
    "fig,ax = plt.subplots()\n",
    "neg = ax.imshow(S_delta_pred)\n",
    "fig.colorbar(neg, ax=ax)\n",
    "t_delta_pred = G@s_delta_pred\n",
    "la.norm(t_delta_pred-t_delta)"
   ]
  },
  {
   "cell_type": "code",
   "execution_count": null,
   "metadata": {},
   "outputs": [],
   "source": [
    "R = la.pinv(G)@G\n",
    "fig,ax = plt.subplots(figsize = (10,10))\n",
    "neg = ax.imshow(R)\n",
    "fig.colorbar(neg, ax=ax)\n",
    "ax.set_xlabel('s_i')\n",
    "ax.set_ylabel('s_j')"
   ]
  },
  {
   "cell_type": "code",
   "execution_count": null,
   "metadata": {},
   "outputs": [],
   "source": [
    "cov = la.pinv(G)@la.pinv(G).T\n",
    "fig,ax = plt.subplots(figsize = (10,10))\n",
    "neg = ax.imshow(cov)\n",
    "fig.colorbar(neg, ax=ax)\n",
    "#ax.set_xlabel('s_i')\n",
    "#ax.set_ylabel('s_j')"
   ]
  },
  {
   "cell_type": "code",
   "execution_count": null,
   "metadata": {},
   "outputs": [],
   "source": [
    "import numpy as np\n",
    "import matplotlib.pyplot as plt\n",
    "import scipy.constants as const\n",
    "from scipy.special import gamma\n",
    "import numpy.linalg as la\n",
    "import sys\n",
    "from matplotlib import ticker\n",
    "import matplotlib\n",
    "from IPython.core.display import Latex\n",
    "\n",
    "v1,v2 = 6.,6.3\n",
    "x1,x2,z1,z2 = 4,7,1,9\n",
    "ds1 = 0\n",
    "ds2 = 1/v1-1/v2\n",
    "def forward_l(zr,x1,x2,z1,z2,right):\n",
    "    \"\"\"Simulating time anomalies t from analytical formula.\"\"\"\n",
    "    if right:\n",
    "        a = x1\n",
    "        b = x2\n",
    "        x1 = 13-b\n",
    "        x2 = 13-a\n",
    "    dx = x2-x1\n",
    "    if zr<=(x1+z1):\n",
    "        t = np.sqrt(2)*zr*ds1\n",
    "    elif zr>(x1+z1) and zr<=(x2+z1):\n",
    "        t = np.sqrt(2)*((x1+z1)*ds1+(zr-z1-x1)*ds2)\n",
    "    else:\n",
    "        t = np.sqrt(2)*((zr-dx)*ds1+dx*ds2)\n",
    "    return t\n",
    "\n",
    "rays = np.arange(2,12)\n",
    "t_l = [forward_l(r,x1,x2,z1,z2,False) for r in rays]#coming from left\n",
    "t_r = [forward_l(r,x1,x2,z1,z2,True) for r in rays] #coming from right\n",
    "rays_all = np.arange(20)#rays are enumerated top to bottom starting on the left assigning 0-9 and 10-19 on the right\n",
    "t_pure = np.concatenate((t_l,t_r))\n",
    "t_pure = t_pure.reshape(20,1)\n",
    "\n",
    "N = 20\n",
    "sigma = 0.001\n",
    "n = np.random.normal(loc = 0, scale = sigma, size = (N,1))\n",
    "t = t_pure + n\n",
    "\n",
    "#constructing G\n",
    "G = np.zeros((20,13*11))\n",
    "G[np.arange(10),np.arange(1,11)] = np.sqrt(2)\n",
    "G[np.arange(10,20,1),np.arange(11,1,-1)] = np.sqrt(2)\n",
    "for i in range(10):\n",
    "    G[np.arange(i,10), np.arange(13*(i+1),11+12*(i+1))] = np.sqrt(2)\n",
    "    G[np.arange(10+i,20,1),np.arange(25+13*i,15+i*14,-1)] = np.sqrt(2)\n",
    "    \n",
    "S = np.ones((11,13))*ds1 \n",
    "S[1:9,4:7] = ds2\n",
    "#s_sim contains information about the geometry of the problem and is used to simulate the data\n",
    "s_sim = np.ndarray.flatten(S) "
   ]
  }
 ],
 "metadata": {
  "kernelspec": {
   "display_name": "Python 3",
   "language": "python",
   "name": "python3"
  },
  "language_info": {
   "codemirror_mode": {
    "name": "ipython",
    "version": 3
   },
   "file_extension": ".py",
   "mimetype": "text/x-python",
   "name": "python",
   "nbconvert_exporter": "python",
   "pygments_lexer": "ipython3",
   "version": "3.6.10"
  }
 },
 "nbformat": 4,
 "nbformat_minor": 4
}
