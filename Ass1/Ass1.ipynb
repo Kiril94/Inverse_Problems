{
 "cells": [
  {
   "cell_type": "code",
   "execution_count": 1,
   "metadata": {},
   "outputs": [],
   "source": [
    "import numpy as np\n",
    "import matplotlib.pyplot as plt\n",
    "import scipy.constants as const\n",
    "import numpy.linalg as la\n",
    "import sys"
   ]
  },
  {
   "cell_type": "code",
   "execution_count": 2,
   "metadata": {},
   "outputs": [],
   "source": [
    "def fastplot(x,y):\n",
    "    fig, ax = plt.subplots()\n",
    "    ax.scatter(x,y)\n",
    "    plt.show()"
   ]
  },
  {
   "cell_type": "code",
   "execution_count": 3,
   "metadata": {},
   "outputs": [],
   "source": [
    "v1,v2 = 6.,6.3\n",
    "x1,x2,z1,z2 = 4,7,1,9\n",
    "def forward_l(zr,x1,x2,z1,z2,right):\n",
    "    if right:\n",
    "        a = x1\n",
    "        b = x2\n",
    "        x1 = 13-b\n",
    "        x2 = 13-a\n",
    "    dx = x2-x1\n",
    "    if zr<=(x1+z1):\n",
    "        t = np.sqrt(2)*zr/v1\n",
    "    elif zr>=(x1+z1) and zr<(x2+z1):\n",
    "        t = np.sqrt(2)*((x1+z1)/v1+(zr-z1-x1)/v2)\n",
    "    else:\n",
    "        t = np.sqrt(2)*((zr-dx)/v1+dx/v2)\n",
    "    return t"
   ]
  },
  {
   "cell_type": "code",
   "execution_count": 4,
   "metadata": {},
   "outputs": [],
   "source": [
    "rays = np.arange(2,12)\n",
    "t_l = [forward_l(r,x1,x2,z1,z2,False) for r in rays]\n",
    "t_r = [forward_l(r,x1,x2,z1,z2,True) for r in rays]"
   ]
  },
  {
   "cell_type": "code",
   "execution_count": 5,
   "metadata": {},
   "outputs": [
    {
     "data": {
      "image/png": "[encoded data removed]",
      "text/plain": [
       "<Figure size 432x288 with 1 Axes>"
      ]
     },
     "metadata": {
      "needs_background": "light"
     },
     "output_type": "display_data"
    },
    {
     "data": {
      "image/png": "[encoded data removed]",
      "text/plain": [
       "<Figure size 432x288 with 1 Axes>"
      ]
     },
     "metadata": {
      "needs_background": "light"
     },
     "output_type": "display_data"
    }
   ],
   "source": [
    "fastplot(rays, t_l)\n",
    "fastplot(rays, t_r)"
   ]
  },
  {
   "cell_type": "markdown",
   "metadata": {},
   "source": [
    "Discretization allows us to formulate the problem as:\\\n",
    "$\\vec{t} = \\mathbf{G}\\vec{s}$\\\n",
    "where s is a vector containing the slowness of each square of the 13*11 matrix\n",
    "slowness on this square grid is numerated in the following way\\\n",
    "[[s0,s1,s2,...,s12],\n",
    "[s13,s14,...,s25],\n",
    "...[]...\n",
    "]\\\n",
    "which is stored in a vector s= [s1,s2,...,s(13*11)]"
   ]
  },
  {
   "cell_type": "code",
   "execution_count": 7,
   "metadata": {},
   "outputs": [],
   "source": [
    "G = np.zeros((20,13*11))\n",
    "G[np.arange(10),np.arange(1,11)] = 1\n",
    "G[np.arange(10,20,1),np.arange(11,1,-1)] = 1\n",
    "for i in range(10):\n",
    "    G[np.arange(i,10), np.arange(13*(i+1),11+12*(i+1))] = 1\n",
    "    G[np.arange(10+i,20,1),np.arange(25+13*i,15+i*14,-1)] = 1\n",
    "S = np.ones((11,13))/v1 \n",
    "S[1:9,4:7] = 1/v2\n",
    "s_sim = np.ndarray.flatten(S) #s_sim contains information about the size of the gray area and is used to simulate the data"
   ]
  },
  {
   "cell_type": "code",
   "execution_count": 11,
   "metadata": {},
   "outputs": [
    {
     "data": {
      "text/plain": [
       "<function matplotlib.pyplot.show(close=None, block=None)>"
      ]
     },
     "execution_count": 11,
     "metadata": {},
     "output_type": "execute_result"
    },
    {
     "data": {
      "image/png": "[encoded data removed]",
      "text/plain": [
       "<Figure size 1440x720 with 1 Axes>"
      ]
     },
     "metadata": {
      "needs_background": "light"
     },
     "output_type": "display_data"
    }
   ],
   "source": [
    "#This is what the matrix looks like\n",
    "fig, ax = plt.subplots(figsize = (20,10))\n",
    "ax.imshow(G)\n",
    "plt.show"
   ]
  },
  {
   "cell_type": "code",
   "execution_count": null,
   "metadata": {},
   "outputs": [],
   "source": []
  },
  {
   "cell_type": "code",
   "execution_count": null,
   "metadata": {},
   "outputs": [],
   "source": []
  }
 ],
 "metadata": {
  "kernelspec": {
   "display_name": "Python 3",
   "language": "python",
   "name": "python3"
  },
  "language_info": {
   "codemirror_mode": {
    "name": "ipython",
    "version": 3
   },
   "file_extension": ".py",
   "mimetype": "text/x-python",
   "name": "python",
   "nbconvert_exporter": "python",
   "pygments_lexer": "ipython3",
   "version": "3.6.10"
  }
 },
 "nbformat": 4,
 "nbformat_minor": 4
}
